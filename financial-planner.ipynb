{
 "cells": [
  {
   "cell_type": "markdown",
   "metadata": {},
   "source": [
    "# Unit 5 - Financial Planning"
   ]
  },
  {
   "cell_type": "code",
   "execution_count": 6,
   "metadata": {},
   "outputs": [],
   "source": [
    "# Initial imports\n",
    "import os\n",
    "import requests\n",
    "import pandas as pd\n",
    "from dotenv import load_dotenv\n",
    "import alpaca_trade_api as tradeapi\n",
    "from MCForecastTools import MCSimulation\n",
    "\n",
    "%matplotlib inline"
   ]
  },
  {
   "cell_type": "code",
   "execution_count": 7,
   "metadata": {},
   "outputs": [
    {
     "data": {
      "text/plain": [
       "True"
      ]
     },
     "execution_count": 7,
     "metadata": {},
     "output_type": "execute_result"
    }
   ],
   "source": [
    "# Load .env enviroment variables\n",
    "load_dotenv(\"keys.env\")"
   ]
  },
  {
   "cell_type": "markdown",
   "metadata": {},
   "source": [
    "## Part 1 - Personal Finance Planner"
   ]
  },
  {
   "cell_type": "markdown",
   "metadata": {},
   "source": [
    "### Collect Crypto Prices Using the `requests` Library"
   ]
  },
  {
   "cell_type": "code",
   "execution_count": 8,
   "metadata": {},
   "outputs": [],
   "source": [
    "# Set current amount of crypto assets\n",
    "my_btc = 1.2\n",
    "my_eth = 5.3"
   ]
  },
  {
   "cell_type": "code",
   "execution_count": 9,
   "metadata": {},
   "outputs": [],
   "source": [
    "# Crypto API URLs\n",
    "btc_url = \"https://api.alternative.me/v2/ticker/Bitcoin/?convert=CAD\"\n",
    "eth_url = \"https://api.alternative.me/v2/ticker/Ethereum/?convert=CAD\""
   ]
  },
  {
   "cell_type": "code",
   "execution_count": 10,
   "metadata": {},
   "outputs": [
    {
     "name": "stdout",
     "output_type": "stream",
     "text": [
      "The current value of your 1.2 BTC is $46491.60\n",
      "The current value of your 5.3 ETH is $13637.22\n"
     ]
    }
   ],
   "source": [
    "# Fetch current BTC price\n",
    "btc_data = requests.get(btc_url).json()\n",
    "btc_price = float(btc_data['data']['1']['quotes']['USD']['price'])\n",
    "# Fetch current ETH price\n",
    "eth_data = requests.get(eth_url).json()\n",
    "eth_price = float(eth_data['data']['1027']['quotes']['USD']['price'])\n",
    "# Compute current value of my crpto\n",
    "my_btc_value = btc_price*my_btc\n",
    "my_eth_value = eth_price*my_eth\n",
    "\n",
    "# Print current crypto wallet balance\n",
    "print(f\"The current value of your {my_btc} BTC is ${my_btc_value:0.2f}\")\n",
    "print(f\"The current value of your {my_eth} ETH is ${my_eth_value:0.2f}\")"
   ]
  },
  {
   "cell_type": "markdown",
   "metadata": {},
   "source": [
    "### Collect Investments Data Using Alpaca: `SPY` (stocks) and `AGG` (bonds)"
   ]
  },
  {
   "cell_type": "code",
   "execution_count": 16,
   "metadata": {},
   "outputs": [],
   "source": [
    "# Set current amount of shares\n",
    "my_agg = 200\n",
    "my_spy = 50"
   ]
  },
  {
   "cell_type": "code",
   "execution_count": 17,
   "metadata": {},
   "outputs": [],
   "source": [
    "# Set Alpaca API key and secret\n",
    "alpaca_api_key = os.getenv(\"ALPACA_API_KEY\")\n",
    "alpaca_secret_key = os.getenv(\"ALPACA_SECRET_KEY\")\n",
    "# Create the Alpaca API object\n",
    "alpaca = tradeapi.REST(\n",
    "    alpaca_api_key,\n",
    "    alpaca_secret_key,\n",
    "    api_version = \"v2\"\n",
    ")"
   ]
  },
  {
   "cell_type": "code",
   "execution_count": 18,
   "metadata": {},
   "outputs": [
    {
     "data": {
      "text/html": [
       "<div>\n",
       "<style scoped>\n",
       "    .dataframe tbody tr th:only-of-type {\n",
       "        vertical-align: middle;\n",
       "    }\n",
       "\n",
       "    .dataframe tbody tr th {\n",
       "        vertical-align: top;\n",
       "    }\n",
       "\n",
       "    .dataframe thead tr th {\n",
       "        text-align: left;\n",
       "    }\n",
       "\n",
       "    .dataframe thead tr:last-of-type th {\n",
       "        text-align: right;\n",
       "    }\n",
       "</style>\n",
       "<table border=\"1\" class=\"dataframe\">\n",
       "  <thead>\n",
       "    <tr>\n",
       "      <th></th>\n",
       "      <th colspan=\"5\" halign=\"left\">AGG</th>\n",
       "      <th colspan=\"5\" halign=\"left\">SPY</th>\n",
       "    </tr>\n",
       "    <tr>\n",
       "      <th></th>\n",
       "      <th>open</th>\n",
       "      <th>high</th>\n",
       "      <th>low</th>\n",
       "      <th>close</th>\n",
       "      <th>volume</th>\n",
       "      <th>open</th>\n",
       "      <th>high</th>\n",
       "      <th>low</th>\n",
       "      <th>close</th>\n",
       "      <th>volume</th>\n",
       "    </tr>\n",
       "    <tr>\n",
       "      <th>time</th>\n",
       "      <th></th>\n",
       "      <th></th>\n",
       "      <th></th>\n",
       "      <th></th>\n",
       "      <th></th>\n",
       "      <th></th>\n",
       "      <th></th>\n",
       "      <th></th>\n",
       "      <th></th>\n",
       "      <th></th>\n",
       "    </tr>\n",
       "  </thead>\n",
       "  <tbody>\n",
       "    <tr>\n",
       "      <th>2022-03-08 00:00:00-05:00</th>\n",
       "      <td>109.25</td>\n",
       "      <td>109.3301</td>\n",
       "      <td>109.1201</td>\n",
       "      <td>109.2465</td>\n",
       "      <td>6065718</td>\n",
       "      <td>419.7</td>\n",
       "      <td>427.21</td>\n",
       "      <td>415.12</td>\n",
       "      <td>421.1</td>\n",
       "      <td>108393446</td>\n",
       "    </tr>\n",
       "  </tbody>\n",
       "</table>\n",
       "</div>"
      ],
      "text/plain": [
       "                              AGG                                         \\\n",
       "                             open      high       low     close   volume   \n",
       "time                                                                       \n",
       "2022-03-08 00:00:00-05:00  109.25  109.3301  109.1201  109.2465  6065718   \n",
       "\n",
       "                             SPY                                    \n",
       "                            open    high     low  close     volume  \n",
       "time                                                                \n",
       "2022-03-08 00:00:00-05:00  419.7  427.21  415.12  421.1  108393446  "
      ]
     },
     "execution_count": 18,
     "metadata": {},
     "output_type": "execute_result"
    }
   ],
   "source": [
    "# Format current date as ISO format\n",
    "today = pd.Timestamp('2022-3-08', tz=\"America/New_York\").isoformat()\n",
    "\n",
    "# Set the tickers\n",
    "tickers = [\"AGG\", \"SPY\"]\n",
    "\n",
    "# Set timeframe to '1D' for Alpaca API\n",
    "timeframe = \"1D\"\n",
    "\n",
    "# Get current closing prices for SPY and AGG\n",
    "# (use a limit=1000 parameter to call the most recent 1000 days of data)\n",
    "spy_agg_price = alpaca.get_barset(\n",
    "    tickers,\n",
    "    timeframe,\n",
    "    limit=1000, \n",
    "    start =today,\n",
    "    end = today).df\n",
    "\n",
    "# Preview DataFrame\n",
    "spy_agg_price.head()"
   ]
  },
  {
   "cell_type": "code",
   "execution_count": 19,
   "metadata": {},
   "outputs": [
    {
     "name": "stdout",
     "output_type": "stream",
     "text": [
      "Current AGG closing price: $109.2465\n",
      "Current SPY closing price: $421.1\n"
     ]
    }
   ],
   "source": [
    "# Pick AGG and SPY close prices\n",
    "agg_close_price = spy_agg_price.iloc[0]['AGG']['close']\n",
    "spy_close_price = spy_agg_price.iloc[0]['SPY']['close']\n",
    "# Print AGG and SPY close prices\n",
    "print(f\"Current AGG closing price: ${agg_close_price}\")\n",
    "print(f\"Current SPY closing price: ${spy_close_price}\")"
   ]
  },
  {
   "cell_type": "code",
   "execution_count": 20,
   "metadata": {},
   "outputs": [
    {
     "name": "stdout",
     "output_type": "stream",
     "text": [
      "The current value of your 50 SPY shares is $21055.00\n",
      "The current value of your 200 AGG shares is $21849.30\n"
     ]
    }
   ],
   "source": [
    "# Compute the current value of shares\n",
    "my_spy_value = spy_close_price * my_spy\n",
    "my_agg_value = agg_close_price * my_agg\n",
    "\n",
    "# Print current value of shares\n",
    "print(f\"The current value of your {my_spy} SPY shares is ${my_spy_value:0.2f}\")\n",
    "print(f\"The current value of your {my_agg} AGG shares is ${my_agg_value:0.2f}\")"
   ]
  },
  {
   "cell_type": "markdown",
   "metadata": {},
   "source": [
    "### Savings Health Analysis"
   ]
  },
  {
   "cell_type": "code",
   "execution_count": 21,
   "metadata": {},
   "outputs": [
    {
     "data": {
      "text/html": [
       "<div>\n",
       "<style scoped>\n",
       "    .dataframe tbody tr th:only-of-type {\n",
       "        vertical-align: middle;\n",
       "    }\n",
       "\n",
       "    .dataframe tbody tr th {\n",
       "        vertical-align: top;\n",
       "    }\n",
       "\n",
       "    .dataframe thead th {\n",
       "        text-align: right;\n",
       "    }\n",
       "</style>\n",
       "<table border=\"1\" class=\"dataframe\">\n",
       "  <thead>\n",
       "    <tr style=\"text-align: right;\">\n",
       "      <th></th>\n",
       "      <th>amount</th>\n",
       "    </tr>\n",
       "  </thead>\n",
       "  <tbody>\n",
       "    <tr>\n",
       "      <th>crypto</th>\n",
       "      <td>60128.818</td>\n",
       "    </tr>\n",
       "    <tr>\n",
       "      <th>shares</th>\n",
       "      <td>42904.300</td>\n",
       "    </tr>\n",
       "  </tbody>\n",
       "</table>\n",
       "</div>"
      ],
      "text/plain": [
       "           amount\n",
       "crypto  60128.818\n",
       "shares  42904.300"
      ]
     },
     "execution_count": 21,
     "metadata": {},
     "output_type": "execute_result"
    }
   ],
   "source": [
    "# Set monthly household income\n",
    "monthly_income = 12000\n",
    "\n",
    "# Consolidate financial assets data\n",
    "df_savings= {\n",
    "    \"crypto\": my_btc_value+my_eth_value,\n",
    "    \"shares\":my_spy_value+my_agg_value}\n",
    "\n",
    "# Create savings DataFrame\n",
    "df_savings= pd.DataFrame.from_dict(data=df_savings, orient='index')\n",
    "df_savings.columns = ['amount']\n",
    "# Display savings DataFrame\n",
    "df_savings.head()"
   ]
  },
  {
   "cell_type": "code",
   "execution_count": 22,
   "metadata": {},
   "outputs": [
    {
     "data": {
      "text/plain": [
       "<AxesSubplot:ylabel='amount'>"
      ]
     },
     "execution_count": 22,
     "metadata": {},
     "output_type": "execute_result"
    },
    {
     "data": {
      "image/png": "[encoded data removed]",
      "text/plain": [
       "<Figure size 432x288 with 1 Axes>"
      ]
     },
     "metadata": {},
     "output_type": "display_data"
    }
   ],
   "source": [
    "# Plot savings pie chart\n",
    "df_savings.plot.pie(y='amount')"
   ]
  },
  {
   "cell_type": "code",
   "execution_count": 23,
   "metadata": {},
   "outputs": [
    {
     "name": "stdout",
     "output_type": "stream",
     "text": [
      "Congrats, you have enough money!\n"
     ]
    }
   ],
   "source": [
    "# Set ideal emergency fund\n",
    "emergency_fund = monthly_income * 3\n",
    "\n",
    "# Calculate total amount of savings\n",
    "total_savings = df_savings['amount'].sum()\n",
    "\n",
    "\n",
    "# Validate saving health\n",
    "if total_savings > emergency_fund:\n",
    "    print('Congrats, you have enough money!')\n",
    "elif total_savings == emergency_fund:\n",
    "    print('Congrats, you have reached your goal!')\n",
    "else:\n",
    "    print(f'You are {emergency_fund-total_savings} away from your goal')"
   ]
  },
  {
   "cell_type": "markdown",
   "metadata": {},
   "source": [
    "## Part 2 - Retirement Planning\n",
    "\n",
    "### Monte Carlo Simulation"
   ]
  },
  {
   "cell_type": "code",
   "execution_count": 26,
   "metadata": {},
   "outputs": [],
   "source": [
    "# Set start and end dates of five years back from today.\n",
    "# Sample results may vary from the solution based on the time frame chosen\n",
    "start_date = pd.Timestamp('2017-03-08', tz='America/New_York').isoformat()\n",
    "end_date = pd.Timestamp('2022-03-08', tz='America/New_York').isoformat()"
   ]
  },
  {
   "cell_type": "code",
   "execution_count": 27,
   "metadata": {},
   "outputs": [
    {
     "data": {
      "text/html": [
       "<div>\n",
       "<style scoped>\n",
       "    .dataframe tbody tr th:only-of-type {\n",
       "        vertical-align: middle;\n",
       "    }\n",
       "\n",
       "    .dataframe tbody tr th {\n",
       "        vertical-align: top;\n",
       "    }\n",
       "\n",
       "    .dataframe thead tr th {\n",
       "        text-align: left;\n",
       "    }\n",
       "\n",
       "    .dataframe thead tr:last-of-type th {\n",
       "        text-align: right;\n",
       "    }\n",
       "</style>\n",
       "<table border=\"1\" class=\"dataframe\">\n",
       "  <thead>\n",
       "    <tr>\n",
       "      <th></th>\n",
       "      <th colspan=\"5\" halign=\"left\">AGG</th>\n",
       "      <th colspan=\"5\" halign=\"left\">SPY</th>\n",
       "    </tr>\n",
       "    <tr>\n",
       "      <th></th>\n",
       "      <th>open</th>\n",
       "      <th>high</th>\n",
       "      <th>low</th>\n",
       "      <th>close</th>\n",
       "      <th>volume</th>\n",
       "      <th>open</th>\n",
       "      <th>high</th>\n",
       "      <th>low</th>\n",
       "      <th>close</th>\n",
       "      <th>volume</th>\n",
       "    </tr>\n",
       "    <tr>\n",
       "      <th>time</th>\n",
       "      <th></th>\n",
       "      <th></th>\n",
       "      <th></th>\n",
       "      <th></th>\n",
       "      <th></th>\n",
       "      <th></th>\n",
       "      <th></th>\n",
       "      <th></th>\n",
       "      <th></th>\n",
       "      <th></th>\n",
       "    </tr>\n",
       "  </thead>\n",
       "  <tbody>\n",
       "    <tr>\n",
       "      <th>2018-03-19 00:00:00-04:00</th>\n",
       "      <td>106.56</td>\n",
       "      <td>106.74</td>\n",
       "      <td>106.53</td>\n",
       "      <td>106.58</td>\n",
       "      <td>2068013.0</td>\n",
       "      <td>NaN</td>\n",
       "      <td>NaN</td>\n",
       "      <td>NaN</td>\n",
       "      <td>NaN</td>\n",
       "      <td>NaN</td>\n",
       "    </tr>\n",
       "    <tr>\n",
       "      <th>2018-03-20 00:00:00-04:00</th>\n",
       "      <td>106.44</td>\n",
       "      <td>106.51</td>\n",
       "      <td>106.40</td>\n",
       "      <td>106.41</td>\n",
       "      <td>2769390.0</td>\n",
       "      <td>270.93</td>\n",
       "      <td>271.67</td>\n",
       "      <td>270.18</td>\n",
       "      <td>270.94</td>\n",
       "      <td>38399686.0</td>\n",
       "    </tr>\n",
       "    <tr>\n",
       "      <th>2018-03-21 00:00:00-04:00</th>\n",
       "      <td>106.32</td>\n",
       "      <td>106.48</td>\n",
       "      <td>106.08</td>\n",
       "      <td>106.41</td>\n",
       "      <td>2841377.0</td>\n",
       "      <td>270.90</td>\n",
       "      <td>273.27</td>\n",
       "      <td>270.19</td>\n",
       "      <td>270.43</td>\n",
       "      <td>59831437.0</td>\n",
       "    </tr>\n",
       "    <tr>\n",
       "      <th>2018-03-22 00:00:00-04:00</th>\n",
       "      <td>106.67</td>\n",
       "      <td>106.80</td>\n",
       "      <td>106.49</td>\n",
       "      <td>106.61</td>\n",
       "      <td>2789748.0</td>\n",
       "      <td>267.91</td>\n",
       "      <td>268.87</td>\n",
       "      <td>263.36</td>\n",
       "      <td>263.67</td>\n",
       "      <td>105012105.0</td>\n",
       "    </tr>\n",
       "    <tr>\n",
       "      <th>2018-03-23 00:00:00-04:00</th>\n",
       "      <td>106.46</td>\n",
       "      <td>106.70</td>\n",
       "      <td>106.46</td>\n",
       "      <td>106.61</td>\n",
       "      <td>2569628.0</td>\n",
       "      <td>264.16</td>\n",
       "      <td>265.02</td>\n",
       "      <td>257.83</td>\n",
       "      <td>258.01</td>\n",
       "      <td>117338697.0</td>\n",
       "    </tr>\n",
       "  </tbody>\n",
       "</table>\n",
       "</div>"
      ],
      "text/plain": [
       "                              AGG                                        SPY  \\\n",
       "                             open    high     low   close     volume    open   \n",
       "time                                                                           \n",
       "2018-03-19 00:00:00-04:00  106.56  106.74  106.53  106.58  2068013.0     NaN   \n",
       "2018-03-20 00:00:00-04:00  106.44  106.51  106.40  106.41  2769390.0  270.93   \n",
       "2018-03-21 00:00:00-04:00  106.32  106.48  106.08  106.41  2841377.0  270.90   \n",
       "2018-03-22 00:00:00-04:00  106.67  106.80  106.49  106.61  2789748.0  267.91   \n",
       "2018-03-23 00:00:00-04:00  106.46  106.70  106.46  106.61  2569628.0  264.16   \n",
       "\n",
       "                                                                \n",
       "                             high     low   close       volume  \n",
       "time                                                            \n",
       "2018-03-19 00:00:00-04:00     NaN     NaN     NaN          NaN  \n",
       "2018-03-20 00:00:00-04:00  271.67  270.18  270.94   38399686.0  \n",
       "2018-03-21 00:00:00-04:00  273.27  270.19  270.43   59831437.0  \n",
       "2018-03-22 00:00:00-04:00  268.87  263.36  263.67  105012105.0  \n",
       "2018-03-23 00:00:00-04:00  265.02  257.83  258.01  117338697.0  "
      ]
     },
     "execution_count": 27,
     "metadata": {},
     "output_type": "execute_result"
    }
   ],
   "source": [
    "# Get 5 years' worth of historical data for SPY and AGG\n",
    "df_stock_data = alpaca.get_barset(\n",
    "    tickers,\n",
    "    timeframe,\n",
    "    start = start_date,\n",
    "    end = end_date,\n",
    "    limit = 1000\n",
    ").df\n",
    "\n",
    "# Display sample data\n",
    "df_stock_data.head()"
   ]
  },
  {
   "cell_type": "code",
   "execution_count": 28,
   "metadata": {},
   "outputs": [],
   "source": [
    "# Configuring a Monte Carlo simulation to forecast 30 years cumulative returns\n",
    "monte_carlo = MCSimulation(\n",
    "    portfolio_data = df_stock_data,\n",
    "    weights=[.4,.6],\n",
    "    num_simulation=500,\n",
    "    num_trading_days=252*30)"
   ]
  },
  {
   "cell_type": "code",
   "execution_count": 29,
   "metadata": {},
   "outputs": [
    {
     "data": {
      "text/html": [
       "<div>\n",
       "<style scoped>\n",
       "    .dataframe tbody tr th:only-of-type {\n",
       "        vertical-align: middle;\n",
       "    }\n",
       "\n",
       "    .dataframe tbody tr th {\n",
       "        vertical-align: top;\n",
       "    }\n",
       "\n",
       "    .dataframe thead tr th {\n",
       "        text-align: left;\n",
       "    }\n",
       "\n",
       "    .dataframe thead tr:last-of-type th {\n",
       "        text-align: right;\n",
       "    }\n",
       "</style>\n",
       "<table border=\"1\" class=\"dataframe\">\n",
       "  <thead>\n",
       "    <tr>\n",
       "      <th></th>\n",
       "      <th colspan=\"6\" halign=\"left\">AGG</th>\n",
       "      <th colspan=\"6\" halign=\"left\">SPY</th>\n",
       "    </tr>\n",
       "    <tr>\n",
       "      <th></th>\n",
       "      <th>open</th>\n",
       "      <th>high</th>\n",
       "      <th>low</th>\n",
       "      <th>close</th>\n",
       "      <th>volume</th>\n",
       "      <th>daily_return</th>\n",
       "      <th>open</th>\n",
       "      <th>high</th>\n",
       "      <th>low</th>\n",
       "      <th>close</th>\n",
       "      <th>volume</th>\n",
       "      <th>daily_return</th>\n",
       "    </tr>\n",
       "    <tr>\n",
       "      <th>time</th>\n",
       "      <th></th>\n",
       "      <th></th>\n",
       "      <th></th>\n",
       "      <th></th>\n",
       "      <th></th>\n",
       "      <th></th>\n",
       "      <th></th>\n",
       "      <th></th>\n",
       "      <th></th>\n",
       "      <th></th>\n",
       "      <th></th>\n",
       "      <th></th>\n",
       "    </tr>\n",
       "  </thead>\n",
       "  <tbody>\n",
       "    <tr>\n",
       "      <th>2018-03-19 00:00:00-04:00</th>\n",
       "      <td>106.56</td>\n",
       "      <td>106.74</td>\n",
       "      <td>106.53</td>\n",
       "      <td>106.58</td>\n",
       "      <td>2068013.0</td>\n",
       "      <td>NaN</td>\n",
       "      <td>NaN</td>\n",
       "      <td>NaN</td>\n",
       "      <td>NaN</td>\n",
       "      <td>NaN</td>\n",
       "      <td>NaN</td>\n",
       "      <td>NaN</td>\n",
       "    </tr>\n",
       "    <tr>\n",
       "      <th>2018-03-20 00:00:00-04:00</th>\n",
       "      <td>106.44</td>\n",
       "      <td>106.51</td>\n",
       "      <td>106.40</td>\n",
       "      <td>106.41</td>\n",
       "      <td>2769390.0</td>\n",
       "      <td>-0.001595</td>\n",
       "      <td>270.93</td>\n",
       "      <td>271.67</td>\n",
       "      <td>270.18</td>\n",
       "      <td>270.94</td>\n",
       "      <td>38399686.0</td>\n",
       "      <td>NaN</td>\n",
       "    </tr>\n",
       "    <tr>\n",
       "      <th>2018-03-21 00:00:00-04:00</th>\n",
       "      <td>106.32</td>\n",
       "      <td>106.48</td>\n",
       "      <td>106.08</td>\n",
       "      <td>106.41</td>\n",
       "      <td>2841377.0</td>\n",
       "      <td>0.000000</td>\n",
       "      <td>270.90</td>\n",
       "      <td>273.27</td>\n",
       "      <td>270.19</td>\n",
       "      <td>270.43</td>\n",
       "      <td>59831437.0</td>\n",
       "      <td>-0.001882</td>\n",
       "    </tr>\n",
       "    <tr>\n",
       "      <th>2018-03-22 00:00:00-04:00</th>\n",
       "      <td>106.67</td>\n",
       "      <td>106.80</td>\n",
       "      <td>106.49</td>\n",
       "      <td>106.61</td>\n",
       "      <td>2789748.0</td>\n",
       "      <td>0.001880</td>\n",
       "      <td>267.91</td>\n",
       "      <td>268.87</td>\n",
       "      <td>263.36</td>\n",
       "      <td>263.67</td>\n",
       "      <td>105012105.0</td>\n",
       "      <td>-0.024997</td>\n",
       "    </tr>\n",
       "    <tr>\n",
       "      <th>2018-03-23 00:00:00-04:00</th>\n",
       "      <td>106.46</td>\n",
       "      <td>106.70</td>\n",
       "      <td>106.46</td>\n",
       "      <td>106.61</td>\n",
       "      <td>2569628.0</td>\n",
       "      <td>0.000000</td>\n",
       "      <td>264.16</td>\n",
       "      <td>265.02</td>\n",
       "      <td>257.83</td>\n",
       "      <td>258.01</td>\n",
       "      <td>117338697.0</td>\n",
       "      <td>-0.021466</td>\n",
       "    </tr>\n",
       "  </tbody>\n",
       "</table>\n",
       "</div>"
      ],
      "text/plain": [
       "                              AGG                                     \\\n",
       "                             open    high     low   close     volume   \n",
       "time                                                                   \n",
       "2018-03-19 00:00:00-04:00  106.56  106.74  106.53  106.58  2068013.0   \n",
       "2018-03-20 00:00:00-04:00  106.44  106.51  106.40  106.41  2769390.0   \n",
       "2018-03-21 00:00:00-04:00  106.32  106.48  106.08  106.41  2841377.0   \n",
       "2018-03-22 00:00:00-04:00  106.67  106.80  106.49  106.61  2789748.0   \n",
       "2018-03-23 00:00:00-04:00  106.46  106.70  106.46  106.61  2569628.0   \n",
       "\n",
       "                                           SPY                          \\\n",
       "                          daily_return    open    high     low   close   \n",
       "time                                                                     \n",
       "2018-03-19 00:00:00-04:00          NaN     NaN     NaN     NaN     NaN   \n",
       "2018-03-20 00:00:00-04:00    -0.001595  270.93  271.67  270.18  270.94   \n",
       "2018-03-21 00:00:00-04:00     0.000000  270.90  273.27  270.19  270.43   \n",
       "2018-03-22 00:00:00-04:00     0.001880  267.91  268.87  263.36  263.67   \n",
       "2018-03-23 00:00:00-04:00     0.000000  264.16  265.02  257.83  258.01   \n",
       "\n",
       "                                                     \n",
       "                                volume daily_return  \n",
       "time                                                 \n",
       "2018-03-19 00:00:00-04:00          NaN          NaN  \n",
       "2018-03-20 00:00:00-04:00   38399686.0          NaN  \n",
       "2018-03-21 00:00:00-04:00   59831437.0    -0.001882  \n",
       "2018-03-22 00:00:00-04:00  105012105.0    -0.024997  \n",
       "2018-03-23 00:00:00-04:00  117338697.0    -0.021466  "
      ]
     },
     "execution_count": 29,
     "metadata": {},
     "output_type": "execute_result"
    }
   ],
   "source": [
    "# Printing the simulation input data\n",
    "monte_carlo.portfolio_data.head()"
   ]
  },
  {
   "cell_type": "code",
   "execution_count": 30,
   "metadata": {},
   "outputs": [
    {
     "name": "stdout",
     "output_type": "stream",
     "text": [
      "Running Monte Carlo simulation number 0.\n",
      "Running Monte Carlo simulation number 10.\n",
      "Running Monte Carlo simulation number 20.\n",
      "Running Monte Carlo simulation number 30.\n",
      "Running Monte Carlo simulation number 40.\n",
      "Running Monte Carlo simulation number 50.\n",
      "Running Monte Carlo simulation number 60.\n",
      "Running Monte Carlo simulation number 70.\n",
      "Running Monte Carlo simulation number 80.\n",
      "Running Monte Carlo simulation number 90.\n",
      "Running Monte Carlo simulation number 100.\n"
     ]
    },
    {
     "name": "stderr",
     "output_type": "stream",
     "text": [
      "C:\\Users\\ajedw\\Desktop\\Homework\\API\\MCForecastTools.py:117: PerformanceWarning: DataFrame is highly fragmented.  This is usually the result of calling `frame.insert` many times, which has poor performance.  Consider joining all columns at once using pd.concat(axis=1) instead.  To get a de-fragmented frame, use `newframe = frame.copy()`\n",
      "  portfolio_cumulative_returns[n] = (1 + sim_df.fillna(0)).cumprod()\n"
     ]
    },
    {
     "name": "stdout",
     "output_type": "stream",
     "text": [
      "Running Monte Carlo simulation number 110.\n",
      "Running Monte Carlo simulation number 120.\n",
      "Running Monte Carlo simulation number 130.\n",
      "Running Monte Carlo simulation number 140.\n",
      "Running Monte Carlo simulation number 150.\n",
      "Running Monte Carlo simulation number 160.\n",
      "Running Monte Carlo simulation number 170.\n",
      "Running Monte Carlo simulation number 180.\n",
      "Running Monte Carlo simulation number 190.\n",
      "Running Monte Carlo simulation number 200.\n",
      "Running Monte Carlo simulation number 210.\n",
      "Running Monte Carlo simulation number 220.\n",
      "Running Monte Carlo simulation number 230.\n",
      "Running Monte Carlo simulation number 240.\n",
      "Running Monte Carlo simulation number 250.\n",
      "Running Monte Carlo simulation number 260.\n",
      "Running Monte Carlo simulation number 270.\n",
      "Running Monte Carlo simulation number 280.\n",
      "Running Monte Carlo simulation number 290.\n",
      "Running Monte Carlo simulation number 300.\n",
      "Running Monte Carlo simulation number 310.\n",
      "Running Monte Carlo simulation number 320.\n",
      "Running Monte Carlo simulation number 330.\n",
      "Running Monte Carlo simulation number 340.\n",
      "Running Monte Carlo simulation number 350.\n",
      "Running Monte Carlo simulation number 360.\n",
      "Running Monte Carlo simulation number 370.\n",
      "Running Monte Carlo simulation number 380.\n",
      "Running Monte Carlo simulation number 390.\n",
      "Running Monte Carlo simulation number 400.\n",
      "Running Monte Carlo simulation number 410.\n",
      "Running Monte Carlo simulation number 420.\n",
      "Running Monte Carlo simulation number 430.\n",
      "Running Monte Carlo simulation number 440.\n",
      "Running Monte Carlo simulation number 450.\n",
      "Running Monte Carlo simulation number 460.\n",
      "Running Monte Carlo simulation number 470.\n",
      "Running Monte Carlo simulation number 480.\n",
      "Running Monte Carlo simulation number 490.\n"
     ]
    }
   ],
   "source": [
    "# Running a Monte Carlo simulation to forecast 30 years cumulative returns\n",
    "monte_carlo_simulation = monte_carlo.calc_cumulative_return()"
   ]
  },
  {
   "cell_type": "code",
   "execution_count": 33,
   "metadata": {},
   "outputs": [
    {
     "data": {
      "image/png": "[encoded data removed]",
      "text/plain": [
       "<Figure size 432x288 with 1 Axes>"
      ]
     },
     "metadata": {
      "needs_background": "light"
     },
     "output_type": "display_data"
    }
   ],
   "source": [
    "# Plot simulation outcomes\n",
    "lineplot = monte_carlo.plot_simulation()"
   ]
  },
  {
   "cell_type": "code",
   "execution_count": 34,
   "metadata": {},
   "outputs": [
    {
     "data": {
      "image/png": "[encoded data removed]",
      "text/plain": [
       "<Figure size 432x288 with 1 Axes>"
      ]
     },
     "metadata": {
      "needs_background": "light"
     },
     "output_type": "display_data"
    }
   ],
   "source": [
    "# Plot probability distribution and confidence intervals\n",
    "dist_plot = monte_carlo.plot_distribution()"
   ]
  },
  {
   "cell_type": "markdown",
   "metadata": {},
   "source": [
    "### Retirement Analysis"
   ]
  },
  {
   "cell_type": "code",
   "execution_count": 35,
   "metadata": {},
   "outputs": [
    {
     "name": "stdout",
     "output_type": "stream",
     "text": [
      "count           500.000000\n",
      "mean             12.321048\n",
      "std               9.547071\n",
      "min               1.013664\n",
      "25%               5.840411\n",
      "50%               9.554586\n",
      "75%              16.270260\n",
      "max              72.027068\n",
      "95% CI Lower      2.496797\n",
      "95% CI Upper     38.838994\n",
      "Name: 7560, dtype: float64\n"
     ]
    }
   ],
   "source": [
    "# Fetch summary statistics from the Monte Carlo simulation results\n",
    "tbl = monte_carlo.summarize_cumulative_return()\n",
    "# Print summary statistics\n",
    "print(tbl)"
   ]
  },
  {
   "cell_type": "markdown",
   "metadata": {},
   "source": [
    "### Calculate the expected portfolio return at the `95%` lower and upper confidence intervals based on a `$20,000` initial investment."
   ]
  },
  {
   "cell_type": "code",
   "execution_count": 36,
   "metadata": {},
   "outputs": [
    {
     "name": "stdout",
     "output_type": "stream",
     "text": [
      "There is a 95% chance that an initial investment of $20000 in the portfolio over the next 30 years will end within in the range of $49935.94 and $776779.87\n"
     ]
    }
   ],
   "source": [
    "# Set initial investment\n",
    "initial_investment = 20000\n",
    "\n",
    "# Use the lower and upper `95%` confidence intervals to calculate the range of the possible outcomes of our $20,000\n",
    "ci_lower = round(tbl[8]*initial_investment,2)\n",
    "ci_upper = round(tbl[9]*initial_investment,2)\n",
    "\n",
    "# Print results\n",
    "print(f\"There is a 95% chance that an initial investment of ${initial_investment} in the portfolio\"\n",
    "      f\" over the next 30 years will end within in the range of\"\n",
    "      f\" ${ci_lower} and ${ci_upper}\")"
   ]
  },
  {
   "cell_type": "markdown",
   "metadata": {},
   "source": [
    "### Calculate the expected portfolio return at the `95%` lower and upper confidence intervals based on a `50%` increase in the initial investment."
   ]
  },
  {
   "cell_type": "code",
   "execution_count": 37,
   "metadata": {},
   "outputs": [
    {
     "name": "stdout",
     "output_type": "stream",
     "text": [
      "There is a 95% chance that an initial investment of $30000.0 in the portfolio over the next 30 years will end within in the range of $74903.91 and $1165169.81\n"
     ]
    }
   ],
   "source": [
    "# Set initial investment\n",
    "initial_investment = 20000 * 1.5\n",
    "\n",
    "# Use the lower and upper `95%` confidence intervals to calculate the range of the possible outcomes of our $30,000\n",
    "ci_lower = round(tbl[8]*initial_investment,2)\n",
    "ci_upper = round(tbl[9]*initial_investment,2)\n",
    "\n",
    "# Print results\n",
    "print(f\"There is a 95% chance that an initial investment of ${initial_investment} in the portfolio\"\n",
    "      f\" over the next 30 years will end within in the range of\"\n",
    "      f\" ${ci_lower} and ${ci_upper}\")"
   ]
  },
  {
   "cell_type": "markdown",
   "metadata": {},
   "source": [
    "## Optional Challenge - Early Retirement\n",
    "\n",
    "\n",
    "### Five Years Retirement Option"
   ]
  },
  {
   "cell_type": "code",
   "execution_count": 38,
   "metadata": {},
   "outputs": [],
   "source": [
    "# Configuring a Monte Carlo simulation to forecast 5 years cumulative returns\n",
    "monte_carlo2= MCSimulation(\n",
    "    portfolio_data = df_stock_data,\n",
    "    weights = [.4, .6],\n",
    "    num_simulation = 500,\n",
    "    num_trading_days = 252*5\n",
    ")"
   ]
  },
  {
   "cell_type": "code",
   "execution_count": 39,
   "metadata": {},
   "outputs": [
    {
     "name": "stdout",
     "output_type": "stream",
     "text": [
      "Running Monte Carlo simulation number 0.\n",
      "Running Monte Carlo simulation number 10.\n",
      "Running Monte Carlo simulation number 20.\n",
      "Running Monte Carlo simulation number 30.\n",
      "Running Monte Carlo simulation number 40.\n",
      "Running Monte Carlo simulation number 50.\n",
      "Running Monte Carlo simulation number 60.\n",
      "Running Monte Carlo simulation number 70.\n",
      "Running Monte Carlo simulation number 80.\n",
      "Running Monte Carlo simulation number 90.\n",
      "Running Monte Carlo simulation number 100.\n"
     ]
    },
    {
     "name": "stderr",
     "output_type": "stream",
     "text": [
      "C:\\Users\\ajedw\\Desktop\\Homework\\API\\MCForecastTools.py:117: PerformanceWarning: DataFrame is highly fragmented.  This is usually the result of calling `frame.insert` many times, which has poor performance.  Consider joining all columns at once using pd.concat(axis=1) instead.  To get a de-fragmented frame, use `newframe = frame.copy()`\n",
      "  portfolio_cumulative_returns[n] = (1 + sim_df.fillna(0)).cumprod()\n"
     ]
    },
    {
     "name": "stdout",
     "output_type": "stream",
     "text": [
      "Running Monte Carlo simulation number 110.\n",
      "Running Monte Carlo simulation number 120.\n",
      "Running Monte Carlo simulation number 130.\n",
      "Running Monte Carlo simulation number 140.\n",
      "Running Monte Carlo simulation number 150.\n",
      "Running Monte Carlo simulation number 160.\n",
      "Running Monte Carlo simulation number 170.\n",
      "Running Monte Carlo simulation number 180.\n",
      "Running Monte Carlo simulation number 190.\n",
      "Running Monte Carlo simulation number 200.\n",
      "Running Monte Carlo simulation number 210.\n",
      "Running Monte Carlo simulation number 220.\n",
      "Running Monte Carlo simulation number 230.\n",
      "Running Monte Carlo simulation number 240.\n",
      "Running Monte Carlo simulation number 250.\n",
      "Running Monte Carlo simulation number 260.\n",
      "Running Monte Carlo simulation number 270.\n",
      "Running Monte Carlo simulation number 280.\n",
      "Running Monte Carlo simulation number 290.\n",
      "Running Monte Carlo simulation number 300.\n",
      "Running Monte Carlo simulation number 310.\n",
      "Running Monte Carlo simulation number 320.\n",
      "Running Monte Carlo simulation number 330.\n",
      "Running Monte Carlo simulation number 340.\n",
      "Running Monte Carlo simulation number 350.\n",
      "Running Monte Carlo simulation number 360.\n",
      "Running Monte Carlo simulation number 370.\n",
      "Running Monte Carlo simulation number 380.\n",
      "Running Monte Carlo simulation number 390.\n",
      "Running Monte Carlo simulation number 400.\n",
      "Running Monte Carlo simulation number 410.\n",
      "Running Monte Carlo simulation number 420.\n",
      "Running Monte Carlo simulation number 430.\n",
      "Running Monte Carlo simulation number 440.\n",
      "Running Monte Carlo simulation number 450.\n",
      "Running Monte Carlo simulation number 460.\n",
      "Running Monte Carlo simulation number 470.\n",
      "Running Monte Carlo simulation number 480.\n",
      "Running Monte Carlo simulation number 490.\n"
     ]
    },
    {
     "data": {
      "text/html": [
       "<div>\n",
       "<style scoped>\n",
       "    .dataframe tbody tr th:only-of-type {\n",
       "        vertical-align: middle;\n",
       "    }\n",
       "\n",
       "    .dataframe tbody tr th {\n",
       "        vertical-align: top;\n",
       "    }\n",
       "\n",
       "    .dataframe thead th {\n",
       "        text-align: right;\n",
       "    }\n",
       "</style>\n",
       "<table border=\"1\" class=\"dataframe\">\n",
       "  <thead>\n",
       "    <tr style=\"text-align: right;\">\n",
       "      <th></th>\n",
       "      <th>0</th>\n",
       "      <th>1</th>\n",
       "      <th>2</th>\n",
       "      <th>3</th>\n",
       "      <th>4</th>\n",
       "      <th>5</th>\n",
       "      <th>6</th>\n",
       "      <th>7</th>\n",
       "      <th>8</th>\n",
       "      <th>9</th>\n",
       "      <th>...</th>\n",
       "      <th>490</th>\n",
       "      <th>491</th>\n",
       "      <th>492</th>\n",
       "      <th>493</th>\n",
       "      <th>494</th>\n",
       "      <th>495</th>\n",
       "      <th>496</th>\n",
       "      <th>497</th>\n",
       "      <th>498</th>\n",
       "      <th>499</th>\n",
       "    </tr>\n",
       "  </thead>\n",
       "  <tbody>\n",
       "    <tr>\n",
       "      <th>0</th>\n",
       "      <td>1.000000</td>\n",
       "      <td>1.000000</td>\n",
       "      <td>1.000000</td>\n",
       "      <td>1.000000</td>\n",
       "      <td>1.000000</td>\n",
       "      <td>1.000000</td>\n",
       "      <td>1.000000</td>\n",
       "      <td>1.000000</td>\n",
       "      <td>1.000000</td>\n",
       "      <td>1.000000</td>\n",
       "      <td>...</td>\n",
       "      <td>1.000000</td>\n",
       "      <td>1.000000</td>\n",
       "      <td>1.000000</td>\n",
       "      <td>1.000000</td>\n",
       "      <td>1.000000</td>\n",
       "      <td>1.000000</td>\n",
       "      <td>1.000000</td>\n",
       "      <td>1.000000</td>\n",
       "      <td>1.000000</td>\n",
       "      <td>1.000000</td>\n",
       "    </tr>\n",
       "    <tr>\n",
       "      <th>1</th>\n",
       "      <td>0.994627</td>\n",
       "      <td>1.011770</td>\n",
       "      <td>0.999407</td>\n",
       "      <td>0.995799</td>\n",
       "      <td>1.009304</td>\n",
       "      <td>1.001890</td>\n",
       "      <td>1.002893</td>\n",
       "      <td>1.009186</td>\n",
       "      <td>1.001014</td>\n",
       "      <td>1.004986</td>\n",
       "      <td>...</td>\n",
       "      <td>0.999687</td>\n",
       "      <td>0.994958</td>\n",
       "      <td>0.998683</td>\n",
       "      <td>0.999719</td>\n",
       "      <td>0.990590</td>\n",
       "      <td>1.004213</td>\n",
       "      <td>1.010954</td>\n",
       "      <td>1.001908</td>\n",
       "      <td>1.004684</td>\n",
       "      <td>0.997882</td>\n",
       "    </tr>\n",
       "    <tr>\n",
       "      <th>2</th>\n",
       "      <td>0.990876</td>\n",
       "      <td>1.005968</td>\n",
       "      <td>1.013570</td>\n",
       "      <td>0.987484</td>\n",
       "      <td>1.013654</td>\n",
       "      <td>1.012161</td>\n",
       "      <td>1.006887</td>\n",
       "      <td>1.010954</td>\n",
       "      <td>0.995516</td>\n",
       "      <td>1.007972</td>\n",
       "      <td>...</td>\n",
       "      <td>0.993779</td>\n",
       "      <td>0.992658</td>\n",
       "      <td>0.993509</td>\n",
       "      <td>1.003836</td>\n",
       "      <td>0.989397</td>\n",
       "      <td>1.015966</td>\n",
       "      <td>1.024300</td>\n",
       "      <td>0.999391</td>\n",
       "      <td>1.010683</td>\n",
       "      <td>0.983557</td>\n",
       "    </tr>\n",
       "    <tr>\n",
       "      <th>3</th>\n",
       "      <td>0.971656</td>\n",
       "      <td>1.009703</td>\n",
       "      <td>1.008544</td>\n",
       "      <td>0.989331</td>\n",
       "      <td>1.026736</td>\n",
       "      <td>1.015591</td>\n",
       "      <td>0.991231</td>\n",
       "      <td>1.026196</td>\n",
       "      <td>1.000818</td>\n",
       "      <td>1.027346</td>\n",
       "      <td>...</td>\n",
       "      <td>0.994665</td>\n",
       "      <td>0.986319</td>\n",
       "      <td>0.992322</td>\n",
       "      <td>1.004464</td>\n",
       "      <td>0.997587</td>\n",
       "      <td>1.023401</td>\n",
       "      <td>1.026000</td>\n",
       "      <td>1.010317</td>\n",
       "      <td>1.015197</td>\n",
       "      <td>0.981853</td>\n",
       "    </tr>\n",
       "    <tr>\n",
       "      <th>4</th>\n",
       "      <td>0.969882</td>\n",
       "      <td>1.011733</td>\n",
       "      <td>1.008284</td>\n",
       "      <td>0.980334</td>\n",
       "      <td>1.029212</td>\n",
       "      <td>1.019921</td>\n",
       "      <td>0.987079</td>\n",
       "      <td>1.027822</td>\n",
       "      <td>1.016838</td>\n",
       "      <td>1.020946</td>\n",
       "      <td>...</td>\n",
       "      <td>0.987607</td>\n",
       "      <td>0.982155</td>\n",
       "      <td>0.986633</td>\n",
       "      <td>0.987472</td>\n",
       "      <td>0.989983</td>\n",
       "      <td>1.031795</td>\n",
       "      <td>1.020594</td>\n",
       "      <td>1.004524</td>\n",
       "      <td>1.006940</td>\n",
       "      <td>0.987004</td>\n",
       "    </tr>\n",
       "    <tr>\n",
       "      <th>...</th>\n",
       "      <td>...</td>\n",
       "      <td>...</td>\n",
       "      <td>...</td>\n",
       "      <td>...</td>\n",
       "      <td>...</td>\n",
       "      <td>...</td>\n",
       "      <td>...</td>\n",
       "      <td>...</td>\n",
       "      <td>...</td>\n",
       "      <td>...</td>\n",
       "      <td>...</td>\n",
       "      <td>...</td>\n",
       "      <td>...</td>\n",
       "      <td>...</td>\n",
       "      <td>...</td>\n",
       "      <td>...</td>\n",
       "      <td>...</td>\n",
       "      <td>...</td>\n",
       "      <td>...</td>\n",
       "      <td>...</td>\n",
       "      <td>...</td>\n",
       "    </tr>\n",
       "    <tr>\n",
       "      <th>1256</th>\n",
       "      <td>1.446827</td>\n",
       "      <td>0.921293</td>\n",
       "      <td>1.412330</td>\n",
       "      <td>2.261827</td>\n",
       "      <td>1.859517</td>\n",
       "      <td>1.149542</td>\n",
       "      <td>1.097747</td>\n",
       "      <td>1.010616</td>\n",
       "      <td>1.775684</td>\n",
       "      <td>0.915721</td>\n",
       "      <td>...</td>\n",
       "      <td>0.985439</td>\n",
       "      <td>1.877846</td>\n",
       "      <td>1.430616</td>\n",
       "      <td>0.984935</td>\n",
       "      <td>1.970796</td>\n",
       "      <td>1.509101</td>\n",
       "      <td>0.842370</td>\n",
       "      <td>1.615775</td>\n",
       "      <td>1.155511</td>\n",
       "      <td>2.548523</td>\n",
       "    </tr>\n",
       "    <tr>\n",
       "      <th>1257</th>\n",
       "      <td>1.430809</td>\n",
       "      <td>0.930140</td>\n",
       "      <td>1.420880</td>\n",
       "      <td>2.249514</td>\n",
       "      <td>1.853254</td>\n",
       "      <td>1.156799</td>\n",
       "      <td>1.100690</td>\n",
       "      <td>1.003181</td>\n",
       "      <td>1.768904</td>\n",
       "      <td>0.909983</td>\n",
       "      <td>...</td>\n",
       "      <td>0.983197</td>\n",
       "      <td>1.886338</td>\n",
       "      <td>1.425870</td>\n",
       "      <td>1.002121</td>\n",
       "      <td>1.963308</td>\n",
       "      <td>1.499632</td>\n",
       "      <td>0.839961</td>\n",
       "      <td>1.617049</td>\n",
       "      <td>1.149555</td>\n",
       "      <td>2.542442</td>\n",
       "    </tr>\n",
       "    <tr>\n",
       "      <th>1258</th>\n",
       "      <td>1.427490</td>\n",
       "      <td>0.934831</td>\n",
       "      <td>1.421489</td>\n",
       "      <td>2.246251</td>\n",
       "      <td>1.825178</td>\n",
       "      <td>1.154188</td>\n",
       "      <td>1.105735</td>\n",
       "      <td>1.011772</td>\n",
       "      <td>1.780620</td>\n",
       "      <td>0.914765</td>\n",
       "      <td>...</td>\n",
       "      <td>0.986516</td>\n",
       "      <td>1.882048</td>\n",
       "      <td>1.433231</td>\n",
       "      <td>1.008704</td>\n",
       "      <td>2.002522</td>\n",
       "      <td>1.499435</td>\n",
       "      <td>0.844922</td>\n",
       "      <td>1.611930</td>\n",
       "      <td>1.148942</td>\n",
       "      <td>2.522759</td>\n",
       "    </tr>\n",
       "    <tr>\n",
       "      <th>1259</th>\n",
       "      <td>1.423200</td>\n",
       "      <td>0.915749</td>\n",
       "      <td>1.422752</td>\n",
       "      <td>2.232928</td>\n",
       "      <td>1.818654</td>\n",
       "      <td>1.157843</td>\n",
       "      <td>1.122032</td>\n",
       "      <td>1.016995</td>\n",
       "      <td>1.784471</td>\n",
       "      <td>0.914889</td>\n",
       "      <td>...</td>\n",
       "      <td>0.990898</td>\n",
       "      <td>1.875536</td>\n",
       "      <td>1.442900</td>\n",
       "      <td>0.997226</td>\n",
       "      <td>2.018582</td>\n",
       "      <td>1.510436</td>\n",
       "      <td>0.841442</td>\n",
       "      <td>1.613321</td>\n",
       "      <td>1.147704</td>\n",
       "      <td>2.496155</td>\n",
       "    </tr>\n",
       "    <tr>\n",
       "      <th>1260</th>\n",
       "      <td>1.427818</td>\n",
       "      <td>0.921136</td>\n",
       "      <td>1.424414</td>\n",
       "      <td>2.247754</td>\n",
       "      <td>1.833352</td>\n",
       "      <td>1.159631</td>\n",
       "      <td>1.109995</td>\n",
       "      <td>1.003517</td>\n",
       "      <td>1.769848</td>\n",
       "      <td>0.905699</td>\n",
       "      <td>...</td>\n",
       "      <td>0.984787</td>\n",
       "      <td>1.869538</td>\n",
       "      <td>1.428152</td>\n",
       "      <td>0.999490</td>\n",
       "      <td>2.028495</td>\n",
       "      <td>1.510319</td>\n",
       "      <td>0.845035</td>\n",
       "      <td>1.603098</td>\n",
       "      <td>1.152416</td>\n",
       "      <td>2.486281</td>\n",
       "    </tr>\n",
       "  </tbody>\n",
       "</table>\n",
       "<p>1261 rows × 500 columns</p>\n",
       "</div>"
      ],
      "text/plain": [
       "           0         1         2         3         4         5         6    \\\n",
       "0     1.000000  1.000000  1.000000  1.000000  1.000000  1.000000  1.000000   \n",
       "1     0.994627  1.011770  0.999407  0.995799  1.009304  1.001890  1.002893   \n",
       "2     0.990876  1.005968  1.013570  0.987484  1.013654  1.012161  1.006887   \n",
       "3     0.971656  1.009703  1.008544  0.989331  1.026736  1.015591  0.991231   \n",
       "4     0.969882  1.011733  1.008284  0.980334  1.029212  1.019921  0.987079   \n",
       "...        ...       ...       ...       ...       ...       ...       ...   \n",
       "1256  1.446827  0.921293  1.412330  2.261827  1.859517  1.149542  1.097747   \n",
       "1257  1.430809  0.930140  1.420880  2.249514  1.853254  1.156799  1.100690   \n",
       "1258  1.427490  0.934831  1.421489  2.246251  1.825178  1.154188  1.105735   \n",
       "1259  1.423200  0.915749  1.422752  2.232928  1.818654  1.157843  1.122032   \n",
       "1260  1.427818  0.921136  1.424414  2.247754  1.833352  1.159631  1.109995   \n",
       "\n",
       "           7         8         9    ...       490       491       492  \\\n",
       "0     1.000000  1.000000  1.000000  ...  1.000000  1.000000  1.000000   \n",
       "1     1.009186  1.001014  1.004986  ...  0.999687  0.994958  0.998683   \n",
       "2     1.010954  0.995516  1.007972  ...  0.993779  0.992658  0.993509   \n",
       "3     1.026196  1.000818  1.027346  ...  0.994665  0.986319  0.992322   \n",
       "4     1.027822  1.016838  1.020946  ...  0.987607  0.982155  0.986633   \n",
       "...        ...       ...       ...  ...       ...       ...       ...   \n",
       "1256  1.010616  1.775684  0.915721  ...  0.985439  1.877846  1.430616   \n",
       "1257  1.003181  1.768904  0.909983  ...  0.983197  1.886338  1.425870   \n",
       "1258  1.011772  1.780620  0.914765  ...  0.986516  1.882048  1.433231   \n",
       "1259  1.016995  1.784471  0.914889  ...  0.990898  1.875536  1.442900   \n",
       "1260  1.003517  1.769848  0.905699  ...  0.984787  1.869538  1.428152   \n",
       "\n",
       "           493       494       495       496       497       498       499  \n",
       "0     1.000000  1.000000  1.000000  1.000000  1.000000  1.000000  1.000000  \n",
       "1     0.999719  0.990590  1.004213  1.010954  1.001908  1.004684  0.997882  \n",
       "2     1.003836  0.989397  1.015966  1.024300  0.999391  1.010683  0.983557  \n",
       "3     1.004464  0.997587  1.023401  1.026000  1.010317  1.015197  0.981853  \n",
       "4     0.987472  0.989983  1.031795  1.020594  1.004524  1.006940  0.987004  \n",
       "...        ...       ...       ...       ...       ...       ...       ...  \n",
       "1256  0.984935  1.970796  1.509101  0.842370  1.615775  1.155511  2.548523  \n",
       "1257  1.002121  1.963308  1.499632  0.839961  1.617049  1.149555  2.542442  \n",
       "1258  1.008704  2.002522  1.499435  0.844922  1.611930  1.148942  2.522759  \n",
       "1259  0.997226  2.018582  1.510436  0.841442  1.613321  1.147704  2.496155  \n",
       "1260  0.999490  2.028495  1.510319  0.845035  1.603098  1.152416  2.486281  \n",
       "\n",
       "[1261 rows x 500 columns]"
      ]
     },
     "execution_count": 39,
     "metadata": {},
     "output_type": "execute_result"
    }
   ],
   "source": [
    "# Running a Monte Carlo simulation to forecast 5 years cumulative returns\n",
    "monte_carlo2.calc_cumulative_return()"
   ]
  },
  {
   "cell_type": "code",
   "execution_count": 40,
   "metadata": {},
   "outputs": [
    {
     "data": {
      "text/plain": [
       "<AxesSubplot:title={'center':'500 Simulations of Cumulative Portfolio Return Trajectories Over the Next 1260 Trading Days.'}>"
      ]
     },
     "execution_count": 40,
     "metadata": {},
     "output_type": "execute_result"
    },
    {
     "data": {
      "image/png": "[encoded data removed]",
      "text/plain": [
       "<Figure size 432x288 with 1 Axes>"
      ]
     },
     "metadata": {
      "needs_background": "light"
     },
     "output_type": "display_data"
    }
   ],
   "source": [
    "# Plot simulation outcomes\n",
    "monte_carlo2.plot_simulation()"
   ]
  },
  {
   "cell_type": "code",
   "execution_count": 41,
   "metadata": {},
   "outputs": [
    {
     "data": {
      "text/plain": [
       "<AxesSubplot:title={'center':'Distribution of Final Cumuluative Returns Across All 500 Simulations'}, ylabel='Frequency'>"
      ]
     },
     "execution_count": 41,
     "metadata": {},
     "output_type": "execute_result"
    },
    {
     "data": {
      "image/png": "[encoded data removed]",
      "text/plain": [
       "<Figure size 432x288 with 1 Axes>"
      ]
     },
     "metadata": {
      "needs_background": "light"
     },
     "output_type": "display_data"
    }
   ],
   "source": [
    "# Plot probability distribution and confidence intervals\n",
    "monte_carlo2.plot_distribution()"
   ]
  },
  {
   "cell_type": "code",
   "execution_count": 42,
   "metadata": {},
   "outputs": [
    {
     "name": "stdout",
     "output_type": "stream",
     "text": [
      "count           500.000000\n",
      "mean              1.512336\n",
      "std               0.468342\n",
      "min               0.527018\n",
      "25%               1.193042\n",
      "50%               1.448860\n",
      "75%               1.766644\n",
      "max               4.107946\n",
      "95% CI Lower      0.795392\n",
      "95% CI Upper      2.495601\n",
      "Name: 1260, dtype: float64\n"
     ]
    }
   ],
   "source": [
    "# Fetch summary statistics from the Monte Carlo simulation results\n",
    "tbl2 = monte_carlo2.summarize_cumulative_return()\n",
    "\n",
    "# Print summary statistics\n",
    "print(tbl2)"
   ]
  },
  {
   "cell_type": "code",
   "execution_count": 43,
   "metadata": {},
   "outputs": [
    {
     "name": "stdout",
     "output_type": "stream",
     "text": [
      "There is a 95% chance that an initial investment of $30000.0 in the portfolio over the next 5 years will end within in the range of $124839.85 and $1941949.68\n"
     ]
    }
   ],
   "source": [
    "# Set initial investment\n",
    "initial_investment2 = 50000\n",
    "\n",
    "# Use the lower and upper `95%` confidence intervals to calculate the range of the possible outcomes of our $60,000\n",
    "ci_lower_five = round(tbl[8]*initial_investment2,2)\n",
    "ci_upper_five = round(tbl[9]*initial_investment2,2)\n",
    "\n",
    "# Print results\n",
    "print(f\"There is a 95% chance that an initial investment of ${initial_investment} in the portfolio\"\n",
    "      f\" over the next 5 years will end within in the range of\"\n",
    "      f\" ${ci_lower_five} and ${ci_upper_five}\")"
   ]
  },
  {
   "cell_type": "markdown",
   "metadata": {},
   "source": [
    "### Ten Years Retirement Option"
   ]
  },
  {
   "cell_type": "code",
   "execution_count": 45,
   "metadata": {},
   "outputs": [],
   "source": [
    "# Configuring a Monte Carlo simulation to forecast 10 years cumulative returns\n",
    "monte_carlo3= MCSimulation(\n",
    "    portfolio_data = df_stock_data,\n",
    "    weights = [.4, .6],\n",
    "    num_simulation = 500,\n",
    "    num_trading_days = 252*10\n",
    ")"
   ]
  },
  {
   "cell_type": "code",
   "execution_count": 46,
   "metadata": {},
   "outputs": [
    {
     "name": "stdout",
     "output_type": "stream",
     "text": [
      "Running Monte Carlo simulation number 0.\n",
      "Running Monte Carlo simulation number 10.\n",
      "Running Monte Carlo simulation number 20.\n",
      "Running Monte Carlo simulation number 30.\n",
      "Running Monte Carlo simulation number 40.\n",
      "Running Monte Carlo simulation number 50.\n",
      "Running Monte Carlo simulation number 60.\n",
      "Running Monte Carlo simulation number 70.\n",
      "Running Monte Carlo simulation number 80.\n",
      "Running Monte Carlo simulation number 90.\n",
      "Running Monte Carlo simulation number 100.\n"
     ]
    },
    {
     "name": "stderr",
     "output_type": "stream",
     "text": [
      "C:\\Users\\ajedw\\Desktop\\Homework\\API\\MCForecastTools.py:117: PerformanceWarning: DataFrame is highly fragmented.  This is usually the result of calling `frame.insert` many times, which has poor performance.  Consider joining all columns at once using pd.concat(axis=1) instead.  To get a de-fragmented frame, use `newframe = frame.copy()`\n",
      "  portfolio_cumulative_returns[n] = (1 + sim_df.fillna(0)).cumprod()\n"
     ]
    },
    {
     "name": "stdout",
     "output_type": "stream",
     "text": [
      "Running Monte Carlo simulation number 110.\n",
      "Running Monte Carlo simulation number 120.\n",
      "Running Monte Carlo simulation number 130.\n",
      "Running Monte Carlo simulation number 140.\n",
      "Running Monte Carlo simulation number 150.\n",
      "Running Monte Carlo simulation number 160.\n",
      "Running Monte Carlo simulation number 170.\n",
      "Running Monte Carlo simulation number 180.\n",
      "Running Monte Carlo simulation number 190.\n",
      "Running Monte Carlo simulation number 200.\n",
      "Running Monte Carlo simulation number 210.\n",
      "Running Monte Carlo simulation number 220.\n",
      "Running Monte Carlo simulation number 230.\n",
      "Running Monte Carlo simulation number 240.\n",
      "Running Monte Carlo simulation number 250.\n",
      "Running Monte Carlo simulation number 260.\n",
      "Running Monte Carlo simulation number 270.\n",
      "Running Monte Carlo simulation number 280.\n",
      "Running Monte Carlo simulation number 290.\n",
      "Running Monte Carlo simulation number 300.\n",
      "Running Monte Carlo simulation number 310.\n",
      "Running Monte Carlo simulation number 320.\n",
      "Running Monte Carlo simulation number 330.\n",
      "Running Monte Carlo simulation number 340.\n",
      "Running Monte Carlo simulation number 350.\n",
      "Running Monte Carlo simulation number 360.\n",
      "Running Monte Carlo simulation number 370.\n",
      "Running Monte Carlo simulation number 380.\n",
      "Running Monte Carlo simulation number 390.\n",
      "Running Monte Carlo simulation number 400.\n",
      "Running Monte Carlo simulation number 410.\n",
      "Running Monte Carlo simulation number 420.\n",
      "Running Monte Carlo simulation number 430.\n",
      "Running Monte Carlo simulation number 440.\n",
      "Running Monte Carlo simulation number 450.\n",
      "Running Monte Carlo simulation number 460.\n",
      "Running Monte Carlo simulation number 470.\n",
      "Running Monte Carlo simulation number 480.\n",
      "Running Monte Carlo simulation number 490.\n"
     ]
    },
    {
     "data": {
      "text/html": [
       "<div>\n",
       "<style scoped>\n",
       "    .dataframe tbody tr th:only-of-type {\n",
       "        vertical-align: middle;\n",
       "    }\n",
       "\n",
       "    .dataframe tbody tr th {\n",
       "        vertical-align: top;\n",
       "    }\n",
       "\n",
       "    .dataframe thead th {\n",
       "        text-align: right;\n",
       "    }\n",
       "</style>\n",
       "<table border=\"1\" class=\"dataframe\">\n",
       "  <thead>\n",
       "    <tr style=\"text-align: right;\">\n",
       "      <th></th>\n",
       "      <th>0</th>\n",
       "      <th>1</th>\n",
       "      <th>2</th>\n",
       "      <th>3</th>\n",
       "      <th>4</th>\n",
       "      <th>5</th>\n",
       "      <th>6</th>\n",
       "      <th>7</th>\n",
       "      <th>8</th>\n",
       "      <th>9</th>\n",
       "      <th>...</th>\n",
       "      <th>490</th>\n",
       "      <th>491</th>\n",
       "      <th>492</th>\n",
       "      <th>493</th>\n",
       "      <th>494</th>\n",
       "      <th>495</th>\n",
       "      <th>496</th>\n",
       "      <th>497</th>\n",
       "      <th>498</th>\n",
       "      <th>499</th>\n",
       "    </tr>\n",
       "  </thead>\n",
       "  <tbody>\n",
       "    <tr>\n",
       "      <th>0</th>\n",
       "      <td>1.000000</td>\n",
       "      <td>1.000000</td>\n",
       "      <td>1.000000</td>\n",
       "      <td>1.000000</td>\n",
       "      <td>1.000000</td>\n",
       "      <td>1.000000</td>\n",
       "      <td>1.000000</td>\n",
       "      <td>1.000000</td>\n",
       "      <td>1.000000</td>\n",
       "      <td>1.000000</td>\n",
       "      <td>...</td>\n",
       "      <td>1.000000</td>\n",
       "      <td>1.000000</td>\n",
       "      <td>1.000000</td>\n",
       "      <td>1.000000</td>\n",
       "      <td>1.000000</td>\n",
       "      <td>1.000000</td>\n",
       "      <td>1.000000</td>\n",
       "      <td>1.000000</td>\n",
       "      <td>1.000000</td>\n",
       "      <td>1.000000</td>\n",
       "    </tr>\n",
       "    <tr>\n",
       "      <th>1</th>\n",
       "      <td>1.006322</td>\n",
       "      <td>1.009662</td>\n",
       "      <td>1.004087</td>\n",
       "      <td>0.994973</td>\n",
       "      <td>0.987802</td>\n",
       "      <td>1.005177</td>\n",
       "      <td>1.000496</td>\n",
       "      <td>0.996500</td>\n",
       "      <td>1.008999</td>\n",
       "      <td>0.999925</td>\n",
       "      <td>...</td>\n",
       "      <td>0.988314</td>\n",
       "      <td>0.995654</td>\n",
       "      <td>1.007608</td>\n",
       "      <td>1.013455</td>\n",
       "      <td>0.998008</td>\n",
       "      <td>0.992252</td>\n",
       "      <td>0.999454</td>\n",
       "      <td>0.999660</td>\n",
       "      <td>0.993882</td>\n",
       "      <td>1.009954</td>\n",
       "    </tr>\n",
       "    <tr>\n",
       "      <th>2</th>\n",
       "      <td>1.012233</td>\n",
       "      <td>1.004818</td>\n",
       "      <td>0.997706</td>\n",
       "      <td>0.991776</td>\n",
       "      <td>0.990564</td>\n",
       "      <td>1.001599</td>\n",
       "      <td>0.996411</td>\n",
       "      <td>1.008175</td>\n",
       "      <td>1.019011</td>\n",
       "      <td>0.989153</td>\n",
       "      <td>...</td>\n",
       "      <td>0.999784</td>\n",
       "      <td>1.004966</td>\n",
       "      <td>1.008358</td>\n",
       "      <td>1.016956</td>\n",
       "      <td>1.007425</td>\n",
       "      <td>1.000480</td>\n",
       "      <td>1.004615</td>\n",
       "      <td>1.003067</td>\n",
       "      <td>1.002362</td>\n",
       "      <td>1.005549</td>\n",
       "    </tr>\n",
       "    <tr>\n",
       "      <th>3</th>\n",
       "      <td>1.006400</td>\n",
       "      <td>1.010031</td>\n",
       "      <td>1.008493</td>\n",
       "      <td>0.989760</td>\n",
       "      <td>1.007445</td>\n",
       "      <td>0.998448</td>\n",
       "      <td>1.005070</td>\n",
       "      <td>1.014862</td>\n",
       "      <td>1.024965</td>\n",
       "      <td>0.980223</td>\n",
       "      <td>...</td>\n",
       "      <td>0.989831</td>\n",
       "      <td>1.003481</td>\n",
       "      <td>1.008589</td>\n",
       "      <td>1.020691</td>\n",
       "      <td>1.016803</td>\n",
       "      <td>0.999435</td>\n",
       "      <td>1.011100</td>\n",
       "      <td>1.004620</td>\n",
       "      <td>1.003682</td>\n",
       "      <td>1.016643</td>\n",
       "    </tr>\n",
       "    <tr>\n",
       "      <th>4</th>\n",
       "      <td>1.007616</td>\n",
       "      <td>1.013991</td>\n",
       "      <td>1.016324</td>\n",
       "      <td>0.997443</td>\n",
       "      <td>1.019150</td>\n",
       "      <td>0.978515</td>\n",
       "      <td>0.999756</td>\n",
       "      <td>1.015768</td>\n",
       "      <td>1.029233</td>\n",
       "      <td>0.985703</td>\n",
       "      <td>...</td>\n",
       "      <td>0.998955</td>\n",
       "      <td>1.006408</td>\n",
       "      <td>1.008223</td>\n",
       "      <td>1.011583</td>\n",
       "      <td>1.016105</td>\n",
       "      <td>0.994799</td>\n",
       "      <td>1.023020</td>\n",
       "      <td>0.996430</td>\n",
       "      <td>1.007345</td>\n",
       "      <td>1.011581</td>\n",
       "    </tr>\n",
       "    <tr>\n",
       "      <th>...</th>\n",
       "      <td>...</td>\n",
       "      <td>...</td>\n",
       "      <td>...</td>\n",
       "      <td>...</td>\n",
       "      <td>...</td>\n",
       "      <td>...</td>\n",
       "      <td>...</td>\n",
       "      <td>...</td>\n",
       "      <td>...</td>\n",
       "      <td>...</td>\n",
       "      <td>...</td>\n",
       "      <td>...</td>\n",
       "      <td>...</td>\n",
       "      <td>...</td>\n",
       "      <td>...</td>\n",
       "      <td>...</td>\n",
       "      <td>...</td>\n",
       "      <td>...</td>\n",
       "      <td>...</td>\n",
       "      <td>...</td>\n",
       "      <td>...</td>\n",
       "    </tr>\n",
       "    <tr>\n",
       "      <th>2516</th>\n",
       "      <td>2.137113</td>\n",
       "      <td>3.602816</td>\n",
       "      <td>1.935201</td>\n",
       "      <td>3.627038</td>\n",
       "      <td>3.520015</td>\n",
       "      <td>2.432684</td>\n",
       "      <td>3.119008</td>\n",
       "      <td>0.829472</td>\n",
       "      <td>2.746768</td>\n",
       "      <td>2.664380</td>\n",
       "      <td>...</td>\n",
       "      <td>1.438961</td>\n",
       "      <td>2.609629</td>\n",
       "      <td>2.976840</td>\n",
       "      <td>2.136576</td>\n",
       "      <td>1.550674</td>\n",
       "      <td>1.347440</td>\n",
       "      <td>1.532531</td>\n",
       "      <td>2.644520</td>\n",
       "      <td>2.878341</td>\n",
       "      <td>1.846232</td>\n",
       "    </tr>\n",
       "    <tr>\n",
       "      <th>2517</th>\n",
       "      <td>2.116213</td>\n",
       "      <td>3.563211</td>\n",
       "      <td>1.922162</td>\n",
       "      <td>3.697709</td>\n",
       "      <td>3.517673</td>\n",
       "      <td>2.430851</td>\n",
       "      <td>3.185073</td>\n",
       "      <td>0.829406</td>\n",
       "      <td>2.746088</td>\n",
       "      <td>2.673448</td>\n",
       "      <td>...</td>\n",
       "      <td>1.436490</td>\n",
       "      <td>2.597508</td>\n",
       "      <td>2.987737</td>\n",
       "      <td>2.115217</td>\n",
       "      <td>1.553641</td>\n",
       "      <td>1.338312</td>\n",
       "      <td>1.534375</td>\n",
       "      <td>2.670768</td>\n",
       "      <td>2.860090</td>\n",
       "      <td>1.857661</td>\n",
       "    </tr>\n",
       "    <tr>\n",
       "      <th>2518</th>\n",
       "      <td>2.096354</td>\n",
       "      <td>3.595622</td>\n",
       "      <td>1.946258</td>\n",
       "      <td>3.746896</td>\n",
       "      <td>3.502430</td>\n",
       "      <td>2.427719</td>\n",
       "      <td>3.249688</td>\n",
       "      <td>0.830711</td>\n",
       "      <td>2.737729</td>\n",
       "      <td>2.635273</td>\n",
       "      <td>...</td>\n",
       "      <td>1.443846</td>\n",
       "      <td>2.565158</td>\n",
       "      <td>3.007137</td>\n",
       "      <td>2.131894</td>\n",
       "      <td>1.568423</td>\n",
       "      <td>1.356557</td>\n",
       "      <td>1.531063</td>\n",
       "      <td>2.699766</td>\n",
       "      <td>2.850006</td>\n",
       "      <td>1.853824</td>\n",
       "    </tr>\n",
       "    <tr>\n",
       "      <th>2519</th>\n",
       "      <td>2.107560</td>\n",
       "      <td>3.604219</td>\n",
       "      <td>1.958486</td>\n",
       "      <td>3.784326</td>\n",
       "      <td>3.523149</td>\n",
       "      <td>2.438569</td>\n",
       "      <td>3.226200</td>\n",
       "      <td>0.812840</td>\n",
       "      <td>2.769493</td>\n",
       "      <td>2.667817</td>\n",
       "      <td>...</td>\n",
       "      <td>1.434418</td>\n",
       "      <td>2.541558</td>\n",
       "      <td>2.980147</td>\n",
       "      <td>2.122436</td>\n",
       "      <td>1.559835</td>\n",
       "      <td>1.367716</td>\n",
       "      <td>1.528644</td>\n",
       "      <td>2.685162</td>\n",
       "      <td>2.857112</td>\n",
       "      <td>1.878067</td>\n",
       "    </tr>\n",
       "    <tr>\n",
       "      <th>2520</th>\n",
       "      <td>2.087062</td>\n",
       "      <td>3.566646</td>\n",
       "      <td>1.961328</td>\n",
       "      <td>3.812486</td>\n",
       "      <td>3.508296</td>\n",
       "      <td>2.453361</td>\n",
       "      <td>3.233215</td>\n",
       "      <td>0.819734</td>\n",
       "      <td>2.818500</td>\n",
       "      <td>2.683581</td>\n",
       "      <td>...</td>\n",
       "      <td>1.418386</td>\n",
       "      <td>2.538147</td>\n",
       "      <td>2.919801</td>\n",
       "      <td>2.129345</td>\n",
       "      <td>1.558238</td>\n",
       "      <td>1.384758</td>\n",
       "      <td>1.532511</td>\n",
       "      <td>2.676009</td>\n",
       "      <td>2.850731</td>\n",
       "      <td>1.888070</td>\n",
       "    </tr>\n",
       "  </tbody>\n",
       "</table>\n",
       "<p>2521 rows × 500 columns</p>\n",
       "</div>"
      ],
      "text/plain": [
       "           0         1         2         3         4         5         6    \\\n",
       "0     1.000000  1.000000  1.000000  1.000000  1.000000  1.000000  1.000000   \n",
       "1     1.006322  1.009662  1.004087  0.994973  0.987802  1.005177  1.000496   \n",
       "2     1.012233  1.004818  0.997706  0.991776  0.990564  1.001599  0.996411   \n",
       "3     1.006400  1.010031  1.008493  0.989760  1.007445  0.998448  1.005070   \n",
       "4     1.007616  1.013991  1.016324  0.997443  1.019150  0.978515  0.999756   \n",
       "...        ...       ...       ...       ...       ...       ...       ...   \n",
       "2516  2.137113  3.602816  1.935201  3.627038  3.520015  2.432684  3.119008   \n",
       "2517  2.116213  3.563211  1.922162  3.697709  3.517673  2.430851  3.185073   \n",
       "2518  2.096354  3.595622  1.946258  3.746896  3.502430  2.427719  3.249688   \n",
       "2519  2.107560  3.604219  1.958486  3.784326  3.523149  2.438569  3.226200   \n",
       "2520  2.087062  3.566646  1.961328  3.812486  3.508296  2.453361  3.233215   \n",
       "\n",
       "           7         8         9    ...       490       491       492  \\\n",
       "0     1.000000  1.000000  1.000000  ...  1.000000  1.000000  1.000000   \n",
       "1     0.996500  1.008999  0.999925  ...  0.988314  0.995654  1.007608   \n",
       "2     1.008175  1.019011  0.989153  ...  0.999784  1.004966  1.008358   \n",
       "3     1.014862  1.024965  0.980223  ...  0.989831  1.003481  1.008589   \n",
       "4     1.015768  1.029233  0.985703  ...  0.998955  1.006408  1.008223   \n",
       "...        ...       ...       ...  ...       ...       ...       ...   \n",
       "2516  0.829472  2.746768  2.664380  ...  1.438961  2.609629  2.976840   \n",
       "2517  0.829406  2.746088  2.673448  ...  1.436490  2.597508  2.987737   \n",
       "2518  0.830711  2.737729  2.635273  ...  1.443846  2.565158  3.007137   \n",
       "2519  0.812840  2.769493  2.667817  ...  1.434418  2.541558  2.980147   \n",
       "2520  0.819734  2.818500  2.683581  ...  1.418386  2.538147  2.919801   \n",
       "\n",
       "           493       494       495       496       497       498       499  \n",
       "0     1.000000  1.000000  1.000000  1.000000  1.000000  1.000000  1.000000  \n",
       "1     1.013455  0.998008  0.992252  0.999454  0.999660  0.993882  1.009954  \n",
       "2     1.016956  1.007425  1.000480  1.004615  1.003067  1.002362  1.005549  \n",
       "3     1.020691  1.016803  0.999435  1.011100  1.004620  1.003682  1.016643  \n",
       "4     1.011583  1.016105  0.994799  1.023020  0.996430  1.007345  1.011581  \n",
       "...        ...       ...       ...       ...       ...       ...       ...  \n",
       "2516  2.136576  1.550674  1.347440  1.532531  2.644520  2.878341  1.846232  \n",
       "2517  2.115217  1.553641  1.338312  1.534375  2.670768  2.860090  1.857661  \n",
       "2518  2.131894  1.568423  1.356557  1.531063  2.699766  2.850006  1.853824  \n",
       "2519  2.122436  1.559835  1.367716  1.528644  2.685162  2.857112  1.878067  \n",
       "2520  2.129345  1.558238  1.384758  1.532511  2.676009  2.850731  1.888070  \n",
       "\n",
       "[2521 rows x 500 columns]"
      ]
     },
     "execution_count": 46,
     "metadata": {},
     "output_type": "execute_result"
    }
   ],
   "source": [
    "# Running a Monte Carlo simulation to forecast 10 years cumulative returns\n",
    "monte_carlo3.calc_cumulative_return()"
   ]
  },
  {
   "cell_type": "code",
   "execution_count": 47,
   "metadata": {},
   "outputs": [
    {
     "data": {
      "text/plain": [
       "<AxesSubplot:title={'center':'500 Simulations of Cumulative Portfolio Return Trajectories Over the Next 2520 Trading Days.'}>"
      ]
     },
     "execution_count": 47,
     "metadata": {},
     "output_type": "execute_result"
    },
    {
     "data": {
      "image/png": "[encoded data removed]",
      "text/plain": [
       "<Figure size 432x288 with 1 Axes>"
      ]
     },
     "metadata": {
      "needs_background": "light"
     },
     "output_type": "display_data"
    }
   ],
   "source": [
    "# Plot simulation outcomes\n",
    "monte_carlo3.plot_simulation()"
   ]
  },
  {
   "cell_type": "code",
   "execution_count": 48,
   "metadata": {},
   "outputs": [
    {
     "data": {
      "text/plain": [
       "<AxesSubplot:title={'center':'Distribution of Final Cumuluative Returns Across All 500 Simulations'}, ylabel='Frequency'>"
      ]
     },
     "execution_count": 48,
     "metadata": {},
     "output_type": "execute_result"
    },
    {
     "data": {
      "image/png": "[encoded data removed]",
      "text/plain": [
       "<Figure size 432x288 with 1 Axes>"
      ]
     },
     "metadata": {
      "needs_background": "light"
     },
     "output_type": "display_data"
    }
   ],
   "source": [
    "# Plot probability distribution and confidence intervals\n",
    "monte_carlo3.plot_distribution()"
   ]
  },
  {
   "cell_type": "code",
   "execution_count": 49,
   "metadata": {},
   "outputs": [
    {
     "name": "stdout",
     "output_type": "stream",
     "text": [
      "count           500.000000\n",
      "mean              2.338248\n",
      "std               0.954943\n",
      "min               0.540623\n",
      "25%               1.645054\n",
      "50%               2.190245\n",
      "75%               2.819743\n",
      "max               7.320340\n",
      "95% CI Lower      0.968820\n",
      "95% CI Upper      4.523741\n",
      "Name: 2520, dtype: float64\n"
     ]
    }
   ],
   "source": [
    "# Fetch summary statistics from the Monte Carlo simulation results\n",
    "tbl3 = monte_carlo3.summarize_cumulative_return()\n",
    "\n",
    "# Print summary statistics\n",
    "print(tbl3)"
   ]
  },
  {
   "cell_type": "code",
   "execution_count": 50,
   "metadata": {},
   "outputs": [
    {
     "name": "stdout",
     "output_type": "stream",
     "text": [
      "There is a 95% chance that an initial investment of $30000.0 in the portfolio over the next 10 years will end within in the range of $74903.91 and $1165169.81\n"
     ]
    }
   ],
   "source": [
    "# Set initial investment\n",
    "initial_investment3= 30000\n",
    "\n",
    "# Use the lower and upper `95%` confidence intervals to calculate the range of the possible outcomes of our $60,000\n",
    "ci_lower_ten = round(tbl[8]*initial_investment3,2)\n",
    "ci_upper_ten = round(tbl[9]*initial_investment3,2)\n",
    "\n",
    "# Print results\n",
    "print(f\"There is a 95% chance that an initial investment of ${initial_investment} in the portfolio\"\n",
    "      f\" over the next 10 years will end within in the range of\"\n",
    "      f\" ${ci_lower_ten} and ${ci_upper_ten}\")"
   ]
  },
  {
   "cell_type": "code",
   "execution_count": null,
   "metadata": {},
   "outputs": [],
   "source": []
  }
 ],
 "metadata": {
  "kernelspec": {
   "display_name": "Python 3 (ipykernel)",
   "language": "python",
   "name": "python3"
  },
  "language_info": {
   "codemirror_mode": {
    "name": "ipython",
    "version": 3
   },
   "file_extension": ".py",
   "mimetype": "text/x-python",
   "name": "python",
   "nbconvert_exporter": "python",
   "pygments_lexer": "ipython3",
   "version": "3.8.12"
  },
  "nteract": {
   "version": "0.28.0"
  }
 },
 "nbformat": 4,
 "nbformat_minor": 4
}
